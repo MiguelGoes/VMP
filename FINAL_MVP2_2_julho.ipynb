{
  "nbformat": 4,
  "nbformat_minor": 0,
  "metadata": {
    "colab": {
      "provenance": [],
      "mount_file_id": "1nVyOqaHMDLc4G7EQGKepZcqjLhonlSXn",
      "authorship_tag": "ABX9TyO5ZW+DVSVaaSvt/vvjqTso",
      "include_colab_link": true
    },
    "kernelspec": {
      "name": "python3",
      "display_name": "Python 3"
    },
    "language_info": {
      "name": "python"
    }
  },
  "cells": [
    {
      "cell_type": "markdown",
      "metadata": {
        "id": "view-in-github",
        "colab_type": "text"
      },
      "source": [
        "<a href=\"https://colab.research.google.com/github/MiguelGoes/VMP/blob/main/FINAL_MVP2_2_julho.ipynb\" target=\"_parent\"><img src=\"https://colab.research.google.com/assets/colab-badge.svg\" alt=\"Open In Colab\"/></a>"
      ]
    },
    {
      "cell_type": "markdown",
      "source": [
        " **Trabalho 2 da segunda sprint**\n",
        "\n",
        " Aluno: Miguel Costa Góes\n",
        " Neste trabalho será utlilizado uma dataset Satellite Image Classification, que possui imagens de quatro tipos:\n",
        "\n",
        "1.   Imagem de massas d'água\n",
        "2.   Imagem de deserto\n",
        "3.   Imagem de florestas ou zonas verdes\n",
        "4.   Imagem de nuvens\n",
        "\n",
        " Esse dataset foi retirado do site kaggle, podendo ser acessado pelo link:\n",
        " https://www.kaggle.com/datasets/mahmoudreda55/satellite-image-classification\n",
        "\n",
        "Esse dataset possui um total de 5625 imagens dos quatro tipos mencionados anteriormente.\n",
        "A ideia principal é fazer um código que consigar aprender  a classificar imagens em um desses quatro tipos apartir de um conunto de imagens de exemplo.\n",
        "\n",
        "\n",
        "\n",
        "\n",
        "\n"
      ],
      "metadata": {
        "id": "Fn-BlUC9pJx8"
      }
    },
    {
      "cell_type": "markdown",
      "source": [
        "Importação das bibliotecas utulizadas no projeto:"
      ],
      "metadata": {
        "id": "-cIXa7I0shpS"
      }
    },
    {
      "cell_type": "code",
      "execution_count": null,
      "metadata": {
        "id": "wA9zdGgiOt4v"
      },
      "outputs": [],
      "source": [
        "#  Carregamento das bibliotecas que serão utilizadas ao longo do projeto:\n",
        "import os\n",
        "import numpy as np\n",
        "import random\n",
        "import matplotlib.pyplot as plt\n",
        "from sklearn.model_selection import train_test_split\n",
        "import tensorflow.keras as keras\n",
        "from tensorflow.keras.preprocessing.image import load_img, img_to_array\n",
        "from tensorflow.keras.utils import to_categorical\n",
        "from PIL import Image\n",
        "from keras.models import Sequential\n",
        "from keras.layers import Dense, Dropout, Flatten\n",
        "from keras.layers import Conv2D, MaxPooling2D\n",
        "from PIL import Image, ImageFilter"
      ]
    },
    {
      "cell_type": "markdown",
      "source": [
        " Todas as imagens foram carregadas no Drive para facilitar a utilização. Nesse passo será carregando as imagens do dataset, criando uma lista com as imagens e com os labels de cada imagem."
      ],
      "metadata": {
        "id": "8nTL-WzEwAvz"
      }
    },
    {
      "cell_type": "code",
      "source": [
        "# Definir o caminho para o diretório contendo as imagens\n",
        "url = '/content/drive/MyDrive/Colab Notebooks/sprint2/imagens'\n",
        "dataset_path = url\n",
        "\n",
        "# Para esse modelo o número de classes é igual a 4\n",
        "# que são: nuvem, corpo d'água, deserto e floresta\n",
        "num_clas = 4 # número de classes\n",
        "normal = 0 # variavel auxiliar, que será utilizada em outra parte do código\n",
        "#para garantir que as imagens foram normalizadas.\n",
        "\n",
        "# Listar os arquivos de imagem no diretório\n",
        "image_files = os.listdir(dataset_path)\n",
        "\n",
        "# Inicializar as listas para armazenar as imagens e os rótulos\n",
        "images = [] # lista com as imagens\n",
        "labels = [] # lista com os titulos das imagens\n",
        "\n",
        "# Percorrer os arquivos de imagem\n",
        "for filename in image_files:\n",
        "    # Carregar a imagem usando o Keras\n",
        "    image = load_img(os.path.join(dataset_path, filename), target_size=(64, 64))\n",
        "    # Converter a imagem em um array numpy\n",
        "    image_array = img_to_array(image)\n",
        "    # Adicionar a imagem às lista de imagens\n",
        "    images.append(image_array)\n",
        "\n",
        "    # Extrair o rótulo da imagem a partir do nome do arquivo.\n",
        "    # Como esse dataset não possui um arquivo com os labels das imagens, foi\n",
        "    # necessario coletar os labels utilizando os nomes de cada imagem.\n",
        "    # Depois de estrarir o nome das imagens para identificar de que tipo de\n",
        "    # imagem se trata foi convertido os rótulos em valores numericos para\n",
        "    # a identificação.\n",
        "\n",
        "    label = filename.split('.')[0]  # Assume que o rótulo está antes do ponto\n",
        "    #na extensão do arquivo.\n",
        "    if label[:4]=='trai':\n",
        "        #label = 'nuvem'\n",
        "        label = 0\n",
        "        #indica que o label se trata de uma imagem de uma nuvem.\n",
        "    elif label[:4]=='SeaL':\n",
        "        #label = 'lago'\n",
        "        label = 1\n",
        "        # indica qque o label se trata de uma imagem de um corpo d'agua.\n",
        "    elif label[:4]=='dese':\n",
        "        #label = 'deserto'\n",
        "        label = 2\n",
        "        # indica que o label se trata de uma imagem de um deserto.\n",
        "    elif label [:4]=='Fore':\n",
        "        #label = 'floresta'\n",
        "        label = 3\n",
        "        # indica que a imagem se trata de uma floresta.\n",
        "    else: print('erro ao salvar imagens')\n",
        "    labels.append(label)\n",
        "\n",
        "# Área de impressão:\n",
        "print(labels[1]) # impressão para verificação do label.\n",
        "print('A quantidade total de itens trabalhadas:')\n",
        "print(len(labels)) # impressão do número total de imagens trabalhadas.\n",
        "print(type(labels)) # impressão para verificar o tipo de objeto.\n",
        "# Verificando se os nomes dos labels foram salvos com sucesso.\n",
        "\n",
        "print('A quantidade de itens com labels 0 é:')\n",
        "print(labels.count(0))#impressão da quantidade de itens com labels 0.\n",
        "\n",
        "print('A quantidade de itens com labels 1 é: ')\n",
        "print(labels.count(1))#impressão da quantidade de itens com labels 1.\n",
        "\n",
        "print('A quantidade de itens com labels 2 é: ')\n",
        "print(labels.count(2))#impressão da quantidade de itens com labels 2.\n",
        "\n",
        "print('A quantidade de itens com labels 3 é:')\n",
        "print(labels.count(0)) #impressão da quantidade de itens com labels 3."
      ],
      "metadata": {
        "colab": {
          "base_uri": "https://localhost:8080/"
        },
        "id": "Qls9byZtTV3X",
        "outputId": "922322f8-213c-48ae-c056-a9b3d24f9134"
      },
      "execution_count": null,
      "outputs": [
        {
          "output_type": "stream",
          "name": "stdout",
          "text": [
            "1\n",
            "A quantidade total de itens trabalhadas:\n",
            "5625\n",
            "<class 'list'>\n",
            "A quantidade de itens com labels 0 é:\n",
            "1500\n",
            "A quantidade de itens com labels 1 é: \n",
            "1500\n",
            "A quantidade de itens com labels 2 é: \n",
            "1125\n",
            "A quantidade de itens com labels 3 é:\n",
            "1500\n"
          ]
        }
      ]
    },
    {
      "cell_type": "markdown",
      "source": [
        " visualização de uma labels e uma imagem qualquer para verificar se está executando como planejado.\n"
      ],
      "metadata": {
        "id": "UlZfBCBRV3H_"
      }
    },
    {
      "cell_type": "code",
      "source": [
        "# impressão de um label aleatório para verificação\n",
        "valor = random.randint(0, len(labels))\n",
        "print('O tipo da imagem {} é {} :\\n'.format(valor ,labels[valor]))\n",
        "print('O tipo da varial labels é {}\\n\\n: '.format (type(labels)))\n",
        "\n",
        "# impressão de uma imagem aleatório para verificação\n",
        "imagem_selecionada = images[valor]\n",
        "plt.title('Imagem do labels selecionado')\n",
        "plt.imshow(imagem_selecionada.astype(np.uint8))\n",
        "plt.show()\n",
        "\n",
        "# label = 0 indica que o label se trata de uma imagem de uma nuvem.\n",
        "# label = 1 indica qque o label se trata de uma imagem de um corpo d'agua.\n",
        "# label = 2 indica que o label se trata de uma imagem de um deserto.\n",
        "# label = 3 indica que a imagem se trata de uma floresta."
      ],
      "metadata": {
        "colab": {
          "base_uri": "https://localhost:8080/",
          "height": 539
        },
        "id": "5359VzEg4sDz",
        "outputId": "27a5fc08-77f1-49d2-b203-b0802d4f77e7"
      },
      "execution_count": null,
      "outputs": [
        {
          "output_type": "stream",
          "name": "stdout",
          "text": [
            "O tipo da imagem 4045 é 0 :\n",
            "\n",
            "O tipo da varial labels é <class 'list'>\n",
            "\n",
            ": \n"
          ]
        },
        {
          "output_type": "display_data",
          "data": {
            "text/plain": [
              "<Figure size 640x480 with 1 Axes>"
            ],
            "image/png": "[encoded data removed]"
          },
          "metadata": {}
        }
      ]
    },
    {
      "cell_type": "markdown",
      "source": [
        "  Realizar a modificação do objeto que está guardando os labls, modifica de list para um numpy.ndarray. Essa modificação é necessária para a utilização futura do dado.\n",
        "   "
      ],
      "metadata": {
        "id": "O59B8iKyaDjI"
      }
    },
    {
      "cell_type": "code",
      "source": [
        "# Realizar a modificação de list para numpy.ndarray\n",
        "\n",
        "print('Formato atual {}:\\n'.format(type(labels))) #verificação do formato atual.\n",
        "\n",
        "print('Verificação da quantidade de dados no formato atual {}\\n'\n",
        ".format(len(labels)))# verificação da quantidade de dados no formato atual\n",
        "labels_array = np.array(labels) # método de modificação.\n",
        "\n",
        "print('Verificação do novo formato{}:\\n'.format(type(labels_array)))\n",
        "# Verificação do novo formato.\n",
        "\n",
        "print('Verificação da quantidade de dados no novo formato'\n",
        ".format(labels_array[3243]))#verificação da quantidade de dados no novo formato."
      ],
      "metadata": {
        "colab": {
          "base_uri": "https://localhost:8080/"
        },
        "id": "JpMwkQJ8ycmL",
        "outputId": "1daa6003-93b6-41d2-cada-1170261d4584"
      },
      "execution_count": null,
      "outputs": [
        {
          "output_type": "stream",
          "name": "stdout",
          "text": [
            "Formato atual <class 'list'>:\n",
            "\n",
            "Verificação da quantidade de dados no formato atual 5625\n",
            "\n",
            "Verificação do novo formato<class 'numpy.ndarray'>:\n",
            "\n",
            "Verificação da quantidade de dados no novo formato\n"
          ]
        }
      ]
    },
    {
      "cell_type": "markdown",
      "source": [
        " Antes de passar para o práoximo passo de tratamento das imagens é verificando se os dos labels nomes foram alterados com sucesso, e o formato da imagem está correta.\n",
        "  Escolhidas imagens em várias faixas de posição no dataset."
      ],
      "metadata": {
        "id": "OYLP184URCkG"
      }
    },
    {
      "cell_type": "code",
      "source": [
        "# Vealizar a impressão dos formatos das imagens e labels\n",
        "# verificação para a imagem 1\n",
        "print('A imagem 1 possui um formato {}'.format(images[1].shape))\n",
        "print('O label da imagem 1 é {}'.format(labels[1]))\n",
        "\n",
        "#Verificação para a imagem 2000\n",
        "print('A imagem 2000 possui um formato {}'.format(images[2000].shape))\n",
        "print('O label da imagem 2000 é {}'.format(labels[2000]))\n",
        "\n",
        "#Verificação para a imagem 3500\n",
        "print('A imagem 3500 possui um formato {}'.format(images[3500].shape))\n",
        "print('O label da imagem 3500 é {}'.format(labels[3500]))\n",
        "\n",
        "#Verificação para a imagem 3500\n",
        "print('A imagem 5000 possui um formato {}'.format(images[5000].shape))\n",
        "print('O label da imagem 5000 é {}'.format(labels[5000]))\n",
        "\n",
        "# Impressão dse um pixel da imagem\n",
        "print(images[2][1][1])"
      ],
      "metadata": {
        "colab": {
          "base_uri": "https://localhost:8080/"
        },
        "id": "LKh60KRHyRES",
        "outputId": "751e96d9-673e-4b18-81d1-1033f79ec20d"
      },
      "execution_count": null,
      "outputs": [
        {
          "output_type": "stream",
          "name": "stdout",
          "text": [
            "A imagem 1 possui um formato (64, 64, 3)\n",
            "O label da imagem 1 é 1\n",
            "A imagem 2000 possui um formato (64, 64, 3)\n",
            "O label da imagem 2000 é 2\n",
            "A imagem 3500 possui um formato (64, 64, 3)\n",
            "O label da imagem 3500 é 3\n",
            "A imagem 5000 possui um formato (64, 64, 3)\n",
            "O label da imagem 5000 é 0\n",
            "[23. 40. 66.]\n"
          ]
        }
      ]
    },
    {
      "cell_type": "code",
      "source": [
        "print(type(images))\n",
        "print(type(labels_array))"
      ],
      "metadata": {
        "colab": {
          "base_uri": "https://localhost:8080/"
        },
        "id": "5FRH6bFPQyw3",
        "outputId": "80c4f444-31e6-4058-ca49-5603158c4435"
      },
      "execution_count": null,
      "outputs": [
        {
          "output_type": "stream",
          "name": "stdout",
          "text": [
            "<class 'list'>\n",
            "<class 'numpy.ndarray'>\n"
          ]
        }
      ]
    },
    {
      "cell_type": "markdown",
      "source": [
        " Conversão do formato das imagens, de lista para np.array. Essa conversão e necessária para utilização futura do arquivo."
      ],
      "metadata": {
        "id": "tGefe7b7gehS"
      }
    },
    {
      "cell_type": "code",
      "source": [
        "# Converter as listas em arrays numpy\n",
        "images = np.array(images)\n",
        "\n",
        "# Pré-processamento dos dados\n",
        "# Normalizando os valores de pixels ( valores de 0 a 1)\n",
        "print((images[2][1][1][1]))\n",
        "\n",
        "if normal == 0:\n",
        "    images = images.astype('float32')\n",
        "    images /= 255\n",
        "    print(type(images))\n",
        "    print(images.shape)\n",
        "    print(images[1].shape)\n",
        "    print(type(labels_array))\n",
        "    print('valores foram normalizados')\n",
        "else :\n",
        "  print('valores já normalizados')\n",
        "normal = 1\n",
        " # Verificação se a imagem já foi normalizada, essa verificação\n",
        " # evita erros de operação, como normalizar duas vezes as imagens\n",
        "formato_imagem = images.shape"
      ],
      "metadata": {
        "colab": {
          "base_uri": "https://localhost:8080/"
        },
        "id": "eRIGAJsETfvh",
        "outputId": "a52925d9-377c-4340-d988-66cff51ab119"
      },
      "execution_count": null,
      "outputs": [
        {
          "output_type": "stream",
          "name": "stdout",
          "text": [
            "40.0\n",
            "<class 'numpy.ndarray'>\n",
            "(5625, 64, 64, 3)\n",
            "(64, 64, 3)\n",
            "<class 'numpy.ndarray'>\n",
            "valores foram normalizados\n"
          ]
        }
      ]
    },
    {
      "cell_type": "markdown",
      "source": [
        " Impressão dos pixels de uma imagem qualquer verificação da normalização, nela os valores devem sempre está entre 0 e 1."
      ],
      "metadata": {
        "id": "b6d-Bu4ShQOy"
      }
    },
    {
      "cell_type": "code",
      "source": [
        "print(images[2][1]) # impressão de um imagens qualquer."
      ],
      "metadata": {
        "colab": {
          "base_uri": "https://localhost:8080/"
        },
        "id": "yEBxXIBm6V7R",
        "outputId": "535af35d-5d05-426b-fd21-5fe780163ae0"
      },
      "execution_count": null,
      "outputs": [
        {
          "output_type": "stream",
          "name": "stdout",
          "text": [
            "[[0.09019608 0.15686275 0.25882354]\n",
            " [0.09019608 0.15686275 0.25882354]\n",
            " [0.09019608 0.15686275 0.25882354]\n",
            " [0.08627451 0.15686275 0.2509804 ]\n",
            " [0.09019608 0.16078432 0.25490198]\n",
            " [0.09019608 0.16078432 0.25490198]\n",
            " [0.09019608 0.16078432 0.25490198]\n",
            " [0.09019608 0.15686275 0.25882354]\n",
            " [0.09411765 0.16078432 0.2627451 ]\n",
            " [0.09411765 0.16078432 0.2627451 ]\n",
            " [0.09019608 0.15686275 0.25882354]\n",
            " [0.09019608 0.15686275 0.25882354]\n",
            " [0.09019608 0.15686275 0.25882354]\n",
            " [0.09019608 0.15686275 0.25882354]\n",
            " [0.09019608 0.15686275 0.25882354]\n",
            " [0.09411765 0.16078432 0.2627451 ]\n",
            " [0.09019608 0.16078432 0.24705882]\n",
            " [0.09411765 0.16470589 0.25882354]\n",
            " [0.09019608 0.15686275 0.25882354]\n",
            " [0.08627451 0.15294118 0.25490198]\n",
            " [0.09019608 0.15686275 0.25882354]\n",
            " [0.08627451 0.15686275 0.2509804 ]\n",
            " [0.09019608 0.16078432 0.25490198]\n",
            " [0.09411765 0.16470589 0.25882354]\n",
            " [0.09019608 0.15686275 0.25882354]\n",
            " [0.08627451 0.15294118 0.25490198]\n",
            " [0.09019608 0.15686275 0.25882354]\n",
            " [0.09019608 0.15686275 0.25882354]\n",
            " [0.09019608 0.15686275 0.25882354]\n",
            " [0.09019608 0.15686275 0.25882354]\n",
            " [0.09019608 0.15686275 0.25882354]\n",
            " [0.09019608 0.15686275 0.25882354]\n",
            " [0.09019608 0.15686275 0.25882354]\n",
            " [0.09019608 0.15686275 0.25882354]\n",
            " [0.09019608 0.15686275 0.25882354]\n",
            " [0.09019608 0.15686275 0.25882354]\n",
            " [0.09019608 0.15686275 0.25882354]\n",
            " [0.09019608 0.15686275 0.25882354]\n",
            " [0.09019608 0.15686275 0.25882354]\n",
            " [0.09019608 0.15686275 0.25882354]\n",
            " [0.09019608 0.15686275 0.25882354]\n",
            " [0.09019608 0.15686275 0.25882354]\n",
            " [0.08627451 0.15294118 0.25490198]\n",
            " [0.09019608 0.15686275 0.25882354]\n",
            " [0.08627451 0.15294118 0.25490198]\n",
            " [0.09019608 0.15686275 0.25882354]\n",
            " [0.09019608 0.15686275 0.25882354]\n",
            " [0.09019608 0.15686275 0.26666668]\n",
            " [0.08627451 0.15686275 0.2509804 ]\n",
            " [0.09019608 0.16078432 0.25490198]\n",
            " [0.09019608 0.15686275 0.25882354]\n",
            " [0.09019608 0.15686275 0.25882354]\n",
            " [0.09019608 0.15686275 0.25882354]\n",
            " [0.09019608 0.15686275 0.26666668]\n",
            " [0.09019608 0.15686275 0.26666668]\n",
            " [0.09019608 0.15686275 0.25882354]\n",
            " [0.09019608 0.15686275 0.25882354]\n",
            " [0.09411765 0.16078432 0.2627451 ]\n",
            " [0.09019608 0.15686275 0.25882354]\n",
            " [0.08627451 0.15294118 0.25490198]\n",
            " [0.09019608 0.15686275 0.25882354]\n",
            " [0.09019608 0.15686275 0.25882354]\n",
            " [0.08627451 0.15294118 0.25490198]\n",
            " [0.09411765 0.16078432 0.2627451 ]]\n"
          ]
        }
      ]
    },
    {
      "cell_type": "markdown",
      "source": [
        " Separar o conjunto de imagens em dois, o conjunto para de teste do modelo e o  conjunto que será utilizado para realizar o treinamento do modelo."
      ],
      "metadata": {
        "id": "Rkm_g6P7W3_P"
      }
    },
    {
      "cell_type": "code",
      "source": [
        "# Realizar a separação das imagens\n",
        "# Como não tenho um arquivo separado com os nomes de cada imagem será necessário\n",
        "# separar os dados antes de realizar o treinamento.\n",
        "# Para esse teste será separado 20% das imagens para testar o modelo\n",
        "# e 80% das imagens serão utilizadas para o treino.\n",
        "\n",
        "j = 0\n",
        "train_images=[]\n",
        "test_images=[]\n",
        "test_labels=[]\n",
        "train_labels=[]\n",
        "for i in range(len(images)):\n",
        "    if j%5==0:\n",
        "        test_images.append(images[j])\n",
        "        test_labels.append(labels_array[j])\n",
        "    else:\n",
        "        train_images.append(images[j])\n",
        "        train_labels.append(labels_array[j])\n",
        "    j = j +1\n",
        "\n",
        "print(len(train_images))\n",
        "print(len(test_images))\n",
        "\n",
        "print('Quantidade de imagens de treino é {} '.format(len(train_images)))\n",
        "print('Quantidade de labels de treino é {}'.format(len(train_labels)))\n",
        "print('Quantidade de imagens de teste é {}'.format(len(test_images)))\n",
        "print('Quantidade de labels de teste é {}'.format(len(test_labels)))\n",
        "\n",
        "train_images =np.array(train_images)\n",
        "test_images =np.array(test_images)\n",
        "train_labels = np.array(train_labels)\n",
        "test_labels = np.array(test_labels)"
      ],
      "metadata": {
        "colab": {
          "base_uri": "https://localhost:8080/"
        },
        "id": "CMX4yAl7W_-_",
        "outputId": "43ed71ba-9cdf-40b8-94b8-ba51e7048f40"
      },
      "execution_count": null,
      "outputs": [
        {
          "output_type": "stream",
          "name": "stdout",
          "text": [
            "4500\n",
            "1125\n",
            "Quantidade de imagens de treino é 4500 \n",
            "Quantidade de labels de treino é 4500\n",
            "Quantidade de imagens de teste é 1125\n",
            "Quantidade de labels de teste é 1125\n"
          ]
        }
      ]
    },
    {
      "cell_type": "markdown",
      "source": [
        " Criando um modelo de rede neural convolocional CNN"
      ],
      "metadata": {
        "id": "rYB7XXJzbZDI"
      }
    },
    {
      "cell_type": "code",
      "source": [
        "# Criar o modelo da CNN\n",
        "model = Sequential()\n",
        "model.add(Conv2D(32, kernel_size=(3, 3), activation='relu', input_shape=(64, 64, 3)))\n",
        "model.add(Conv2D(64, kernel_size=(3, 3), activation='relu'))\n",
        "model.add(Conv2D(128, kernel_size=(3, 3), activation='relu'))\n",
        "model.add(MaxPooling2D(pool_size=(2, 2)))\n",
        "model.add(Dropout(0.15))\n",
        "model.add(Flatten())\n",
        "model.add(Dense(128, activation='relu'))\n",
        "model.add(Dropout(0.15))\n",
        "model.add(Dense(num_clas, activation='softmax'))\n",
        "\n",
        "# Compilar o modelo\n",
        "model.compile(loss=keras.losses.categorical_crossentropy,\n",
        "              optimizer=keras.optimizers.Adadelta(),\n",
        "              metrics=['accuracy'])"
      ],
      "metadata": {
        "id": "NAjqTHPgbXS4"
      },
      "execution_count": null,
      "outputs": []
    },
    {
      "cell_type": "markdown",
      "source": [
        " Depois do modelo criado vamos treinar o modelo"
      ],
      "metadata": {
        "id": "aPBMA4YWeppD"
      }
    },
    {
      "cell_type": "code",
      "source": [
        "train_labels = to_categorical(train_labels, num_classes=4)\n",
        "test_labels = to_categorical(test_labels, num_classes=4)"
      ],
      "metadata": {
        "id": "4G-nkYLssI53"
      },
      "execution_count": null,
      "outputs": []
    },
    {
      "cell_type": "code",
      "source": [
        "# Treinar o modelo\n",
        "epochs = 10\n",
        "model.fit(train_images, train_labels,epochs=epochs)"
      ],
      "metadata": {
        "colab": {
          "base_uri": "https://localhost:8080/"
        },
        "id": "j_YHLDfreuR7",
        "outputId": "e35fb20c-4a20-4fd0-b8fe-9ccd0a191c76"
      },
      "execution_count": null,
      "outputs": [
        {
          "output_type": "stream",
          "name": "stdout",
          "text": [
            "Epoch 1/10\n",
            "141/141 [==============================] - 342s 2s/step - loss: 1.3223 - accuracy: 0.2627\n",
            "Epoch 2/10\n",
            "141/141 [==============================] - 334s 2s/step - loss: 1.2255 - accuracy: 0.3204\n",
            "Epoch 3/10\n",
            "141/141 [==============================] - 343s 2s/step - loss: 1.0965 - accuracy: 0.5211\n",
            "Epoch 4/10\n",
            "141/141 [==============================] - 343s 2s/step - loss: 0.9506 - accuracy: 0.6131\n",
            "Epoch 5/10\n",
            "141/141 [==============================] - 333s 2s/step - loss: 0.8292 - accuracy: 0.6467\n",
            "Epoch 6/10\n",
            "141/141 [==============================] - 330s 2s/step - loss: 0.7409 - accuracy: 0.6616\n",
            "Epoch 7/10\n",
            "141/141 [==============================] - 320s 2s/step - loss: 0.6836 - accuracy: 0.6671\n",
            "Epoch 8/10\n",
            "141/141 [==============================] - 328s 2s/step - loss: 0.6373 - accuracy: 0.6969\n",
            "Epoch 9/10\n",
            "141/141 [==============================] - 321s 2s/step - loss: 0.6057 - accuracy: 0.7091\n",
            "Epoch 10/10\n",
            "141/141 [==============================] - 326s 2s/step - loss: 0.5848 - accuracy: 0.7178\n"
          ]
        },
        {
          "output_type": "execute_result",
          "data": {
            "text/plain": [
              "<keras.callbacks.History at 0x7cc902786770>"
            ]
          },
          "metadata": {},
          "execution_count": 14
        }
      ]
    },
    {
      "cell_type": "code",
      "source": [
        "test_loss, test_acc = model.evaluate(test_images,  test_labels, verbose=2)"
      ],
      "metadata": {
        "colab": {
          "base_uri": "https://localhost:8080/"
        },
        "id": "a-PuCDroEyyH",
        "outputId": "9250ead8-7b0a-40c2-a0e9-ca1aeb71e9bf"
      },
      "execution_count": null,
      "outputs": [
        {
          "output_type": "stream",
          "name": "stdout",
          "text": [
            "36/36 - 19s - loss: 0.5503 - accuracy: 0.7973 - 19s/epoch - 519ms/step\n"
          ]
        }
      ]
    },
    {
      "cell_type": "code",
      "source": [
        "# fazendo teste com uma nova imagem\n",
        "im = Image.open( '/content/drive/MyDrive/Colab Notebooks/sprint2/Capturar.JPG' )\n",
        "#Display image\n",
        "im.show()"
      ],
      "metadata": {
        "colab": {
          "base_uri": "https://localhost:8080/",
          "height": 244
        },
        "id": "ZdnjjUoSFSjp",
        "outputId": "21d4aa5d-a5fe-4ff0-d153-d489eae2bdcf"
      },
      "execution_count": null,
      "outputs": [
        {
          "output_type": "display_data",
          "data": {
            "text/plain": [
              "<PIL.JpegImagePlugin.JpegImageFile image mode=RGB size=231x227 at 0x7CC902884610>"
            ],
            "image/png": "[encoded data removed]"
          },
          "metadata": {}
        }
      ]
    },
    {
      "cell_type": "code",
      "source": [
        "# tratando a imagem para predição\n",
        "imredi = im.resize((64, 64))\n",
        "im_array = (np.array(imredi))/255\n",
        "imagem_entrada = np.expand_dims(im_array, axis=0)\n",
        "previsao = model.predict(imagem_entrada)\n",
        "print(previsao)\n",
        "classe_predita = np.argmax(previsao)\n",
        "\n",
        "print(\"Classe predita:\", classe_predita)\n",
        "\n",
        "# label = 0 indica que o label se trata de uma imagem de uma nuvem.\n",
        "# label = 1 indica qque o label se trata de uma imagem de um corpo d'agua.\n",
        "# label = 2 indica que o label se trata de uma imagem de um deserto.\n",
        "# label = 3 indica que a imagem se trata de uma floresta."
      ],
      "metadata": {
        "colab": {
          "base_uri": "https://localhost:8080/"
        },
        "id": "4pzTPKrRcG-O",
        "outputId": "a2d882da-2db6-4884-cb9b-7ea9f97bc82e"
      },
      "execution_count": null,
      "outputs": [
        {
          "output_type": "stream",
          "name": "stdout",
          "text": [
            "1/1 [==============================] - 0s 228ms/step\n",
            "[[0.05646327 0.4869992  0.01338195 0.44315562]]\n",
            "Classe predita: 1\n"
          ]
        }
      ]
    }
  ]
}